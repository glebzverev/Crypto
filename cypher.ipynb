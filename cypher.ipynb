{
  "nbformat": 4,
  "nbformat_minor": 0,
  "metadata": {
    "colab": {
      "name": "cypher.ipynb",
      "provenance": []
    },
    "kernelspec": {
      "name": "python3",
      "display_name": "Python 3"
    },
    "language_info": {
      "name": "python"
    }
  },
  "cells": [
    {
      "cell_type": "code",
      "metadata": {
        "id": "_ETpQx2NLgEl"
      },
      "source": [
        "from random import randint \n",
        "\n",
        "def simply(n=10000,ref=1000):\n",
        "  #Генерация списка простых чисел от ref до n \n",
        "  a = list(range(n+1))\n",
        "  a[1] = 0\n",
        "  lst = []\n",
        "\n",
        "  i = 2\n",
        "  while i <= n:\n",
        "      if a[i] != 0:\n",
        "          if (a[i]>ref):\n",
        "              lst.append(a[i])\n",
        "          for j in range(i, n+1, i):\n",
        "              a[j] = 0\n",
        "      i += 1\n",
        "  return lst\n",
        "\n",
        "def choice(lst):\n",
        "    #Выбор двух различных простых чисел\n",
        "    a,b = 0,0\n",
        "    while (a==b):\n",
        "        a = randint(0, len(lst)-1)\n",
        "        b = randint(0, len(lst)-1)\n",
        "    return lst[a],lst[b]\n",
        "\n",
        "def eiler_func(p,q):\n",
        "    # Функция Эйлера\n",
        "    return (p-1)*(q-1)\n",
        "\n",
        "def open_exp(p,q, fi, lst):\n",
        "    # Подбор открытой экспоненты\n",
        "    fi = eiler_func(p,q)\n",
        "    my_exp = fi\n",
        "    while (my_exp >= fi and fi % my_exp == 0):\n",
        "        my_exp = lst[randint(0,len(lst)-1)]\n",
        "    return my_exp\n",
        "\n",
        "def find_priv( e,fi):\n",
        "    # \n",
        "    x = 1\n",
        "    while ( (fi*x+1) % e != 0):\n",
        "        x = randint(2,fi)\n",
        "    return (fi*x+1) // e "
      ],
      "execution_count": 155,
      "outputs": []
    },
    {
      "cell_type": "code",
      "metadata": {
        "colab": {
          "base_uri": "https://localhost:8080/"
        },
        "id": "g1l7-bcIMr6V",
        "outputId": "f3e6346f-2eae-4c90-df23-a10f3417b32e"
      },
      "source": [
        "class Cypher():\n",
        "    \n",
        "    open_key = 0\n",
        "    private_key = 0\n",
        "    mod = 0\n",
        "\n",
        "    def __init__(self, n=100, ref=10):\n",
        "        lst = simply(n, ref)\n",
        "        p,q = choice(lst)\n",
        "        fi = eiler_func(p,q)\n",
        "        mod = p*q\n",
        "        e = open_exp(p,q,fi,lst) \n",
        "        d = find_priv(e, fi)\n",
        "        while (d > fi):\n",
        "            d -= fi \n",
        "        self.open_key = e\n",
        "        self.private_key = d\n",
        "        self.mod = mod\n",
        "    @property\n",
        "    def show_info(self):\n",
        "        print('открытая экспонента: ', self.open_key)\n",
        "        print('обратный элемент к e по модулю фи: ', self.private_key)\n",
        "        print('mod: ', self.mod, \"\\n\")\n",
        "\n",
        "    def encrypt(self, message):\n",
        "        encode = []\n",
        "        for i in message:\n",
        "            encode.append( ord(i)**(self.open_key) % self.mod )\n",
        "        return encode\n",
        "\n",
        "    def decrypt(self, encode):\n",
        "        message = ''\n",
        "        for i in encode:\n",
        "            message+=( chr(i**(self.private_key) % self.mod) )\n",
        "        return message\n",
        "\n",
        "A = Cypher(100,10)\n",
        "A.show_info\n",
        "encode = A.encrypt(\"Hello, world\")\n",
        "print(\"Зашифровано: \", encode)\n",
        "print(\"Расшифровано: \", A.decrypt( encode))"
      ],
      "execution_count": 165,
      "outputs": [
        {
          "output_type": "stream",
          "name": "stdout",
          "text": [
            "открытая экспонента:  47\n",
            "обратный элемент к e по модулю фи:  1123\n",
            "mod:  4189 \n",
            "\n",
            "Зашифровано:  [2699, 3800, 316, 316, 2038, 3192, 3666, 1653, 2038, 1013, 316, 4158]\n",
            "Расшифровано:  Hello, world\n"
          ]
        }
      ]
    }
  ]
}