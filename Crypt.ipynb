{
  "nbformat": 4,
  "nbformat_minor": 0,
  "metadata": {
    "colab": {
      "name": "Crypt.ipynb",
      "provenance": [],
      "collapsed_sections": [],
      "authorship_tag": "ABX9TyO8iVPv6mll7sUGaMF2uIdm"
    },
    "kernelspec": {
      "name": "python3",
      "display_name": "Python 3"
    },
    "language_info": {
      "name": "python"
    }
  },
  "cells": [
    {
      "cell_type": "code",
      "metadata": {
        "id": "2dwMOCyO734V"
      },
      "source": [
        "import hashlib"
      ],
      "execution_count": 1,
      "outputs": []
    },
    {
      "cell_type": "markdown",
      "metadata": {
        "id": "I2KoKRq3_0n6"
      },
      "source": [
        "Актуальной библиотекой хэширования языка C++ является \n",
        "**Crypto++**"
      ]
    },
    {
      "cell_type": "markdown",
      "metadata": {
        "id": "NYlSYI-0-Bir"
      },
      "source": [
        "Доступные функции шифрования в python библиотеки hashlib"
      ]
    },
    {
      "cell_type": "code",
      "metadata": {
        "colab": {
          "base_uri": "https://localhost:8080/"
        },
        "id": "_5O5RJfX89nR",
        "outputId": "8f75df42-9e56-4849-8d27-62f7ce6f46e3"
      },
      "source": [
        "print(hashlib.algorithms_available)"
      ],
      "execution_count": 2,
      "outputs": [
        {
          "output_type": "stream",
          "name": "stdout",
          "text": [
            "{'sha224', 'sha3_384', 'blake2s', 'sha384', 'sha512', 'sha3_224', 'md5', 'sha3_256', 'shake_256', 'shake_128', 'sha3_512', 'sha256', 'blake2b', 'sha1'}\n",
            "{'sha224', 'sha3_384', 'blake2s', 'sha384', 'sha512', 'sha3_224', 'md5', 'sha3_256', 'shake_256', 'shake_128', 'sha3_512', 'sha256', 'blake2b', 'sha1'}\n"
          ]
        }
      ]
    },
    {
      "cell_type": "markdown",
      "metadata": {
        "id": "ySTJcmng91Kf"
      },
      "source": [
        "Example MD5\n"
      ]
    },
    {
      "cell_type": "code",
      "metadata": {
        "colab": {
          "base_uri": "https://localhost:8080/"
        },
        "id": "1Iz5yR3M9ME0",
        "outputId": "3763a655-86eb-4500-e820-b05718f0994c"
      },
      "source": [
        "hash_object = hashlib.md5(b'Hello World!')\n",
        "hex_dig = hash_object.hexdigest()\n",
        "print(hex_dig)"
      ],
      "execution_count": 22,
      "outputs": [
        {
          "output_type": "stream",
          "name": "stdout",
          "text": [
            "ed076287532e86365e841e92bfc50d8c\n"
          ]
        }
      ]
    },
    {
      "cell_type": "markdown",
      "metadata": {
        "id": "NK5lLMmE9tcb"
      },
      "source": [
        "Example SHA1"
      ]
    },
    {
      "cell_type": "code",
      "metadata": {
        "colab": {
          "base_uri": "https://localhost:8080/"
        },
        "id": "CrqhyEyD9Z3Z",
        "outputId": "660a635a-90c9-4df1-b72a-5c70f91bebcb"
      },
      "source": [
        "hash_object = hashlib.sha1(b'Hello World')\n",
        "hex_dig = hash_object.hexdigest()\n",
        "print(hex_dig)"
      ],
      "execution_count": 39,
      "outputs": [
        {
          "output_type": "stream",
          "name": "stdout",
          "text": [
            "0a4d55a8d778e5022fab701977c5d840bbc486d0\n"
          ]
        }
      ]
    },
    {
      "cell_type": "markdown",
      "metadata": {
        "id": "2cjmZ9YM-QhW"
      },
      "source": [
        "Example SHA256"
      ]
    },
    {
      "cell_type": "code",
      "metadata": {
        "colab": {
          "base_uri": "https://localhost:8080/"
        },
        "id": "Ut44zgno9jU4",
        "outputId": "542a5d40-92b5-4245-c951-ca1e93d3569e"
      },
      "source": [
        "hash_object = hashlib.sha256(b'Hello World')\n",
        "hex_dig = hash_object.hexdigest()\n",
        "print(hex_dig)"
      ],
      "execution_count": 30,
      "outputs": [
        {
          "output_type": "stream",
          "name": "stdout",
          "text": [
            "a591a6d40bf420404a011733cfb7b190d62c65bf0bcda32b57b277d9ad9f146e\n"
          ]
        }
      ]
    },
    {
      "cell_type": "markdown",
      "metadata": {
        "id": "r-Cb3MvQ-iXz"
      },
      "source": [
        "Example SHA3 (256 bit)\n"
      ]
    },
    {
      "cell_type": "code",
      "metadata": {
        "colab": {
          "base_uri": "https://localhost:8080/"
        },
        "id": "iqPT4K2q-imW",
        "outputId": "abddda3a-2583-48ff-f978-c64a6391fad7"
      },
      "source": [
        "hash_object = hashlib.sha3_512(b'Hello World')\n",
        "hex_dig2 = hash_object.hexdigest()\n",
        "hash_object = hashlib.sha3_256(b'Hello World')\n",
        "hex_dig1 = hash_object.hexdigest()\n",
        "print(len(hex_dig1), len(hex_dig2))"
      ],
      "execution_count": 44,
      "outputs": [
        {
          "output_type": "stream",
          "name": "stdout",
          "text": [
            "64 128\n"
          ]
        }
      ]
    },
    {
      "cell_type": "markdown",
      "metadata": {
        "id": "ndwLd3wdCl1o"
      },
      "source": [
        "This is an example of the how RSA algorithm works"
      ]
    },
    {
      "cell_type": "code",
      "metadata": {
        "colab": {
          "base_uri": "https://localhost:8080/"
        },
        "id": "366EnhWOCqbu",
        "outputId": "30bf2098-3e45-41f6-8963-2bccb0bb564e"
      },
      "source": [
        "import rsa\n",
        "(pubkey, privkey) = rsa.newkeys(512)\n",
        " \n",
        "message = b'Hello Blablacode.ru!'\n",
        " \n",
        "# шифруем\n",
        "crypto = rsa.encrypt(message, pubkey)\n",
        "print(crypto)\n",
        "#расшифровываем\n",
        "message = rsa.decrypt(crypto, privkey)\n",
        "print(message)"
      ],
      "execution_count": 4,
      "outputs": [
        {
          "output_type": "stream",
          "name": "stdout",
          "text": [
            "b\"=\\xd9\\x07\\xba\\xf4k'_Nvb\\xe3;\\x07\\xb7U~\\x85\\x9a69B\\xadyJ\\x85\\xd4O\\xd0\\x81\\x7f\\x19\\x00\\x0b\\x96%\\xb8B\\xe6\\xf7\\xd1-\\x83\\x18\\xbd\\xdd*r#\\xbew^\\x1ex\\xd9\\xad\\xb5\\x8a\\xd2\\xaa\\xd1\\x1b\\x8e\\xd2\"\n",
            "b'Hello Blablacode.ru!'\n"
          ]
        }
      ]
    },
    {
      "cell_type": "code",
      "metadata": {
        "id": "Non94_EZpHyP"
      },
      "source": [
        ""
      ],
      "execution_count": null,
      "outputs": []
    },
    {
      "cell_type": "markdown",
      "metadata": {
        "id": "K6CnTOqTohWP"
      },
      "source": [
        "### Elliptic curves\n",
        "Iterative algorithm for finding function `y^2 = x^3 + x` points modulo 23 \n"
      ]
    },
    {
      "cell_type": "code",
      "metadata": {
        "colab": {
          "base_uri": "https://localhost:8080/"
        },
        "id": "UkfUcnH4Cq4i",
        "outputId": "1ebad149-f979-49ef-e1dc-9c664788ac03"
      },
      "source": [
        "p = 23\n",
        "a, b = 1, 0\n",
        "for x in range(p):\n",
        "  y2 = (x*x*x + a*x + b) % p\n",
        "  for y in range(0, p):\n",
        "    if (y*y % p) == y2:\n",
        "      print (\"(\", x, \",\", y, \")\")\n"
      ],
      "execution_count": 5,
      "outputs": [
        {
          "output_type": "stream",
          "name": "stdout",
          "text": [
            "( 0 , 0 )\n",
            "( 1 , 5 )\n",
            "( 1 , 18 )\n",
            "( 9 , 5 )\n",
            "( 9 , 18 )\n",
            "( 11 , 10 )\n",
            "( 11 , 13 )\n",
            "( 13 , 5 )\n",
            "( 13 , 18 )\n",
            "( 15 , 3 )\n",
            "( 15 , 20 )\n",
            "( 16 , 8 )\n",
            "( 16 , 15 )\n",
            "( 17 , 10 )\n",
            "( 17 , 13 )\n",
            "( 18 , 10 )\n",
            "( 18 , 13 )\n",
            "( 19 , 1 )\n",
            "( 19 , 22 )\n",
            "( 20 , 4 )\n",
            "( 20 , 19 )\n",
            "( 21 , 6 )\n",
            "( 21 , 17 )\n"
          ]
        }
      ]
    },
    {
      "cell_type": "code",
      "metadata": {
        "id": "2gssMkJPP1K2"
      },
      "source": [
        ""
      ],
      "execution_count": null,
      "outputs": []
    }
  ]
}