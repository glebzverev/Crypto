{
  "nbformat": 4,
  "nbformat_minor": 0,
  "metadata": {
    "colab": {
      "name": "my_ecc.ipynb",
      "provenance": [],
      "collapsed_sections": []
    },
    "kernelspec": {
      "name": "python3",
      "display_name": "Python 3"
    },
    "language_info": {
      "name": "python"
    }
  },
  "cells": [
    {
      "cell_type": "code",
      "metadata": {
        "id": "jrNVQnf6Uc7X"
      },
      "source": [
        "from random import randint\n",
        "from hashlib import sha3_256\n",
        "\n",
        "class DOT():\n",
        "    def __init__(self, x, y, p=None):\n",
        "        self.x = x\n",
        "        self.y = y\n",
        "        self.p = p\n",
        "\n",
        "    @property\n",
        "    def info(self):\n",
        "        print(self.x, self.y)\n",
        "\n",
        "    def __str__(self):\n",
        "        return \"(\" + str(self.x) + \", \" + str(self.y) + \")\"\n",
        "\n",
        "class EC():\n",
        "    def __init__(self, a, b, p) -> None:\n",
        "        #y^2 = x^3 + a*x +b mod p\n",
        "        self.a = a\n",
        "        self.b = b\n",
        "        self.p = p\n",
        "\n",
        "    def dop_info(self, n,h) -> None:\n",
        "        self.n = n\n",
        "        self.h = h\n",
        "\n",
        "    def add_seed(self, dot):\n",
        "        self.seed = dot\n",
        "\n",
        "    def modInverse(self, x):\n",
        "        return self.p - x\n",
        "\n",
        "    def add(self, a, b):\n",
        "        g = DOT(a.x, a.y)\n",
        "        dx = (a.x - b.x) % self.p\n",
        "        dy = (a.y - b.y) % self.p\n",
        "        m = dy * (-dx % self.p) % self.p\n",
        "        g.x = (m*m -a.x -b.x)%self.p\n",
        "        g.y = (m * (a.x - g.x) - a.y) % self.p\n",
        "        return g\n",
        "\n",
        "    def __mul__(self,  N):\n",
        "        #if a is None:\n",
        "        a = DOT(self.seed.x, self.seed.y)\n",
        "        b = DOT(a.x,a.y)\n",
        "        for i in range(N):\n",
        "            b = self.add(a,b)\n",
        "        return b    \n",
        "\n",
        "    def mul(self, a, N):\n",
        "        #if a is None:\n",
        "        #    a = DOT(self.seed.x, self.seed.y)\n",
        "        b = DOT(a.x,a.y)\n",
        "        for i in range(N):\n",
        "            b = a + b\n",
        "        return b \n",
        "\n",
        "    @property\n",
        "    def info(self):\n",
        "        print(\"y^2 = x^3 + x *(\", a,\") + (\", b,\") mod \", p)\n",
        "        print(\"Порядок подгруппы: \", n)\n",
        "        print(\"Кофактор подгруппы: \", h)\n",
        "        print(\"seed: \", seed)\n",
        "\n",
        "    def find_seed(self, seed = 0):\n",
        "        if seed == 0:\n",
        "            pass\n",
        "\n",
        "class Crypt():\n",
        "    def __init__(self, ec, start):\n",
        "        self.ec = ec\n",
        "        self.ec.seed=start\n",
        "    \n",
        "    def key_gen(self, priv):\n",
        "        self.priv = priv\n",
        "        hash_object = sha3_256(priv)\n",
        "        hex_dig = hash_object.hexdigest()\n",
        "        self.hash_priv = hex_dig, 16\n",
        "        N = int(hex_dig, 16)%10**6\n",
        "        self.pub = self.ec*N\n",
        "        return self.pub\n",
        "    \n",
        "    @property\n",
        "    def info(self):\n",
        "        self.ec.info\n",
        "        print(\"priv: \", self.priv)\n",
        "        print(\"priv hash: \", self.hash_priv)\n",
        "        print(\"pub: \", self.pub)"
      ],
      "execution_count": 121,
      "outputs": []
    },
    {
      "cell_type": "markdown",
      "metadata": {
        "id": "bppUijir0x6u"
      },
      "source": [
        "# В качестве параметров кривой взята первая рекомендация из NIST"
      ]
    },
    {
      "cell_type": "code",
      "metadata": {
        "colab": {
          "base_uri": "https://localhost:8080/"
        },
        "id": "nnnADpHvVTvo",
        "outputId": "292d5bde-e700-45e6-e6ed-9d35bc1dd40e"
      },
      "source": [
        "a = -3\n",
        "b = 2455155546008943817740293915197451784769108058161191238065\n",
        "p = 6277101735386680763835789423207666416083908700390324961279\n",
        "x = 602046282375688656758213480587526111916698976636884684818\n",
        "y = 174050332293622031404857552280219410364023488927386650641 \n",
        "n = 6277101735386680763835789423176059013767194773182842284081 \n",
        "h = 1\n",
        "\n",
        "curv = EC(a,b,p) \n",
        "curv.dop_info(n, h)\n",
        "seed = DOT(x,y) \n",
        "curv.add_seed(seed)\n",
        "\n",
        "k = randint(0,30)\n",
        "start = curv * k\n",
        "channel = Crypt(curv, start)\n",
        "priv = b'Something'\n",
        "pub = channel.key_gen(priv)\n",
        "channel.info\n"
      ],
      "execution_count": 122,
      "outputs": [
        {
          "output_type": "stream",
          "name": "stdout",
          "text": [
            "y^2 = x^3 + x *( -3 ) + ( 2455155546008943817740293915197451784769108058161191238065 ) mod  6277101735386680763835789423207666416083908700390324961279\n",
            "Порядок подгруппы:  6277101735386680763835789423176059013767194773182842284081\n",
            "Кофактор подгруппы:  1\n",
            "seed:  (602046282375688656758213480587526111916698976636884684818, 174050332293622031404857552280219410364023488927386650641)\n",
            "priv:  b'Something'\n",
            "priv hash:  ('64e335d39d86e261cd0d4af21b0dc065e6f95003c110046a2f7d06a0c86c5008', 16)\n",
            "pub:  (2463963105483528461606179672039874467760713695432813650182, 1700807908897289281540939918015282584862971282808272144954)\n"
          ]
        }
      ]
    },
    {
      "cell_type": "code",
      "metadata": {
        "id": "27xmYc7rY1o8"
      },
      "source": [
        ""
      ],
      "execution_count": null,
      "outputs": []
    },
    {
      "cell_type": "code",
      "metadata": {
        "id": "hZBcsB5NpB2j"
      },
      "source": [
        ""
      ],
      "execution_count": null,
      "outputs": []
    }
  ]
}