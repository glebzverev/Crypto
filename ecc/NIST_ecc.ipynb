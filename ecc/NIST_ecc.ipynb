{
  "nbformat": 4,
  "nbformat_minor": 0,
  "metadata": {
    "colab": {
      "name": "NIST_ecc.ipynb",
      "provenance": [],
      "collapsed_sections": []
    },
    "kernelspec": {
      "name": "python3",
      "display_name": "Python 3"
    },
    "language_info": {
      "name": "python"
    }
  },
  "cells": [
    {
      "cell_type": "code",
      "metadata": {
        "id": "jrNVQnf6Uc7X"
      },
      "source": [
        "from random import randint\n",
        "from hashlib import sha3_256\n",
        "\n",
        "\n",
        "\n",
        "class DOT():\n",
        "    def __init__(self, x, y, p=None):\n",
        "        self.x = x\n",
        "        self.y = y\n",
        "        self.p = p\n",
        "\n",
        "    @property\n",
        "    def info(self):\n",
        "        print(self.x, self.y)\n",
        "\n",
        "    def __str__(self):\n",
        "        return \"(\" + str(self.x) + \", \" + str(self.y) + \")\"\n",
        "\n",
        "class EC():\n",
        "    def __init__(self, a, b, p) -> None:\n",
        "        #y^2 = x^3 + a*x +b mod p\n",
        "        self.a = a\n",
        "        self.b = b\n",
        "        self.p = p\n",
        "\n",
        "    def dop_info(self, n,h) -> None:\n",
        "        self.n = n\n",
        "        self.h = h\n",
        "\n",
        "    def add_seed(self, dot):\n",
        "        self.seed = dot\n",
        "\n",
        "    def modInverse(self, x):\n",
        "        return self.p - x\n",
        "\n",
        "    def add(self, a, b):\n",
        "        g = DOT(a.x, a.y)\n",
        "        dx = (a.x - b.x) % self.p\n",
        "        dy = (a.y - b.y) % self.p\n",
        "        m = dy * (-dx % self.p) % self.p\n",
        "        g.x = (m*m -a.x -b.x) % self.p\n",
        "        g.y = (m * (a.x - g.x) - a.y) % self.p\n",
        "        return g\n",
        "\n",
        "    def __mul__(self,  N):\n",
        "        #if a is None:\n",
        "        a = DOT(self.seed.x, self.seed.y)\n",
        "        b = DOT(a.x,a.y)\n",
        "        for i in range(N):\n",
        "            b = self.add(a,b)\n",
        "        return b    \n",
        "\n",
        "    def mul(self, a, N):\n",
        "        #if a is None:\n",
        "        #    a = DOT(self.seed.x, self.seed.y)\n",
        "        b = DOT(a.x,a.y)\n",
        "        for i in range(N):\n",
        "            b = a + b\n",
        "        return b \n",
        "\n",
        "    @property\n",
        "    def info(self):\n",
        "        print(\"y^2 = x^3 + x *(\", a,\") + (\", b,\") mod \", p)\n",
        "        print(\"Порядок подгруппы: \", n)\n",
        "        print(\"Кофактор подгруппы: \", h)\n",
        "        print(\"seed: \", seed)\n",
        "\n",
        "    def find_seed(self, seed = 0):\n",
        "        if seed == 0:\n",
        "            pass\n",
        "\n",
        "class Crypt():\n",
        "    def __init__(self, ec, start):\n",
        "        self.ec = ec\n",
        "        self.ec.seed=start\n",
        "    \n",
        "    def key_gen(self, priv):\n",
        "        self.priv = priv\n",
        "        hash_object = sha3_256(priv)\n",
        "        hex_dig = hash_object.hexdigest()\n",
        "        self.hash_priv = hex_dig, 16\n",
        "        N = int(hex_dig, 16)%10**6\n",
        "        self.pub = self.ec*N\n",
        "        return self.pub\n",
        "    \n",
        "    @property\n",
        "    def info(self):\n",
        "        self.ec.info\n",
        "        print(\"priv: \", self.priv)\n",
        "        print(\"priv hash: \", self.hash_priv)\n",
        "        print(\"pub: \", self.pub)"
      ],
      "execution_count": 1,
      "outputs": []
    },
    {
      "cell_type": "markdown",
      "metadata": {
        "id": "bppUijir0x6u"
      },
      "source": [
        "# В качестве параметров кривой взята первая рекомендация из NIST"
      ]
    },
    {
      "cell_type": "code",
      "metadata": {
        "id": "nnnADpHvVTvo",
        "colab": {
          "base_uri": "https://localhost:8080/"
        },
        "outputId": "d776cabe-7839-4b3f-e217-045b49e31e49"
      },
      "source": [
        "a = -3\n",
        "b = 2455155546008943817740293915197451784769108058161191238065\n",
        "p = 6277101735386680763835789423207666416083908700390324961279\n",
        "x = 602046282375688656758213480587526111916698976636884684818\n",
        "y = 174050332293622031404857552280219410364023488927386650641 \n",
        "n = 6277101735386680763835789423176059013767194773182842284081 \n",
        "h = 1\n",
        "\n",
        "curv = EC(a,b,p) \n",
        "curv.dop_info(n, h)\n",
        "seed = DOT(x,y) \n",
        "curv.add_seed(seed)\n",
        "\n",
        "k = randint(0,30)\n",
        "start = curv * k\n",
        "channel = Crypt(curv, start)\n",
        "priv = b'Something'\n",
        "pub = channel.key_gen(priv)\n",
        "channel.info\n",
        "#test = channel.key_gen(priv)\n",
        "#print(pub.x == test.x and pub.y==test.y)\n",
        "#print(pub)\n",
        "#print(test)\n",
        "#print(channel.key_gen(priv))"
      ],
      "execution_count": 2,
      "outputs": [
        {
          "output_type": "stream",
          "name": "stdout",
          "text": [
            "y^2 = x^3 + x *( -3 ) + ( 2455155546008943817740293915197451784769108058161191238065 ) mod  6277101735386680763835789423207666416083908700390324961279\n",
            "Порядок подгруппы:  6277101735386680763835789423176059013767194773182842284081\n",
            "Кофактор подгруппы:  1\n",
            "seed:  (602046282375688656758213480587526111916698976636884684818, 174050332293622031404857552280219410364023488927386650641)\n",
            "priv:  b'Something'\n",
            "priv hash:  ('64e335d39d86e261cd0d4af21b0dc065e6f95003c110046a2f7d06a0c86c5008', 16)\n",
            "pub:  (3764075828544895879853332447589608838424021119400635795754, 1795953031616290284564937229785190029368853224261098073492)\n"
          ]
        }
      ]
    },
    {
      "cell_type": "markdown",
      "metadata": {
        "id": "HIB_ZlF09BSR"
      },
      "source": [
        "##Параметры ключа\n",
        "#a,b,p,x,y\n",
        "priv / pub\n",
        "Все параметры занимают по 64 16-ых разряда"
      ]
    },
    {
      "cell_type": "code",
      "metadata": {
        "id": "2xv-EXpxhPVZ"
      },
      "source": [
        "def fill(a,n, neg) -> str:\n",
        "    while len(a)<n-1:\n",
        "        a='0'+a\n",
        "    if neg:\n",
        "      return '1'+a\n",
        "    else:\n",
        "      return '0'+a\n",
        "\n",
        "def to_16(n, N):\n",
        "    neg = (type(n) is int) and (n < 0)\n",
        "    n = abs(n)\n",
        "    s = ''\n",
        "    h = '0123456789ABCDEF'\n",
        "    while n > 0:\n",
        "        s = h[n % 16] + s\n",
        "        n = n // 16\n",
        "    return fill(s, N, neg)\n",
        "\n",
        "def make_str(a):\n",
        "    s=''\n",
        "    for i in a:\n",
        "        s = s+i\n",
        "    return s\n",
        "\n",
        "def make_arr(str):\n",
        "    a=[]\n",
        "    for i in range(len(str)//64):\n",
        "        print(str[i*64:(i+1)*64])\n",
        "        a.append(str[i*64:(i+1)*64])\n",
        "    return a\n",
        "\n",
        "#def re_fill(str):\n",
        "#    neg = str[0] == 1:\n"
      ],
      "execution_count": 3,
      "outputs": []
    },
    {
      "cell_type": "code",
      "metadata": {
        "id": "27xmYc7rY1o8",
        "colab": {
          "base_uri": "https://localhost:8080/"
        },
        "outputId": "63f26ec6-cf23-42df-e8a9-d985f462da92"
      },
      "source": [
        "a = channel.ec.a\n",
        "b = channel.ec.b\n",
        "p = channel.ec.p\n",
        "x = channel.ec.seed.x\n",
        "y = channel.ec.seed.y\n",
        "#priv = channel.hash_priv[0]\n",
        "params = [a,b,p,x,y]\n",
        "priv = [to_16(i, 64) for i in params]\n",
        "#print(len(channel.hash_priv[0]))\n",
        "pub = list(priv)\n",
        "\n",
        "priv.append(str(channel.hash_priv[0]))\n",
        "pub.append(to_16(channel.pub.x, 64))\n",
        "pub.append(to_16(channel.pub.y, 64))\n",
        "\n",
        "#print(make_str(priv))\n",
        "#print(make_str(pub))\n",
        "#print(priv == make_arr(make_str(priv)))\n"
      ],
      "execution_count": 4,
      "outputs": [
        {
          "output_type": "stream",
          "name": "stdout",
          "text": [
            "1000000000000000000000000000000000000000000000000000000000000003000000000000000064210519E59C80E70FA7E9AB72243049FEB8DEECC146B9B10000000000000000FFFFFFFFFFFFFFFFFFFFFFFFFFFFFFFEFFFFFFFFFFFFFFFF0000000000000000163147DCF16F6EBDB65B4A69E689E7DAA1897E09809872DF00000000000000004ACD0A28E1FA81CA5056FBB452F0F9FB0548A23D2652A09B64e335d39d86e261cd0d4af21b0dc065e6f95003c110046a2f7d06a0c86c5008\n",
            "1000000000000000000000000000000000000000000000000000000000000003000000000000000064210519E59C80E70FA7E9AB72243049FEB8DEECC146B9B10000000000000000FFFFFFFFFFFFFFFFFFFFFFFFFFFFFFFEFFFFFFFFFFFFFFFF0000000000000000163147DCF16F6EBDB65B4A69E689E7DAA1897E09809872DF00000000000000004ACD0A28E1FA81CA5056FBB452F0F9FB0548A23D2652A09B00000000000000009982C90A67C4087E69DCE6C5137BEFB73BECD28D8A24092A0000000000000000493E9FE2466D07EAA815C069328F9DED364D9F22E25EED94\n"
          ]
        }
      ]
    },
    {
      "cell_type": "code",
      "metadata": {
        "id": "hZBcsB5NpB2j"
      },
      "source": [
        "file = open('key', 'w')\n",
        "file.write(make_str(priv))\n",
        "file.close()"
      ],
      "execution_count": 7,
      "outputs": []
    },
    {
      "cell_type": "code",
      "metadata": {
        "id": "ZG2c1k1pdBCt"
      },
      "source": [
        "\n",
        "file = open('key.pub', 'w')\n",
        "file.write(make_str(pub))\n",
        "file.close()"
      ],
      "execution_count": 8,
      "outputs": []
    },
    {
      "cell_type": "code",
      "metadata": {
        "id": "RsiWauiddCBk"
      },
      "source": [
        ""
      ],
      "execution_count": null,
      "outputs": []
    }
  ]
}