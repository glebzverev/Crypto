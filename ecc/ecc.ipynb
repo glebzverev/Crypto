{
  "nbformat": 4,
  "nbformat_minor": 0,
  "metadata": {
    "colab": {
      "name": "ecc.ipynb",
      "provenance": [],
      "collapsed_sections": []
    },
    "kernelspec": {
      "name": "python3",
      "display_name": "Python 3"
    },
    "language_info": {
      "name": "python"
    }
  },
  "cells": [
    {
      "cell_type": "code",
      "metadata": {
        "id": "R6aVmn-N9faV"
      },
      "source": [
        "from py_ecc.bls import G2ProofOfPossession as bls_pop\n",
        "from hashlib import sha256, sha3_256\n",
        "\n",
        "def hex_to_dig(hex):\n",
        "  sum = 0\n",
        "  for j in [ord(i) for i in hex]:\n",
        "    sum=sum*j+j\n",
        "  return sum%(2**128)\n",
        "\n",
        "class Assym_encrypt:\n",
        "  public_key \n",
        "  private_key \n",
        "  signature\n",
        "  message\n",
        "  def __init__ (self, key):\n",
        "    hash_sign = sha3_256(key)\n",
        "    hex_sign = hash_sign.hexdigest()\n",
        "    self.private_key = hex_to_dig(hex_sign)\n",
        "    self.public_key = bls_pop.SkToPk(self.private_key)\n",
        "  def signing(self, message):\n",
        "    self.message = message\n",
        "    self.signature = bls_pop.Sign(self.private_key, message)\n",
        "  def verification(self, message, public_key):\n",
        "    return bls_pop.Verify(public_key, message, self.signature)"
      ],
      "execution_count": 165,
      "outputs": []
    },
    {
      "cell_type": "code",
      "metadata": {
        "colab": {
          "base_uri": "https://localhost:8080/"
        },
        "id": "0juQBpgi9MOF",
        "outputId": "646949b0-c7e1-4a21-f24e-d92acf9e8f75"
      },
      "source": [
        "key = b\"Zverev\" #Строка для создания уникального ключа\n",
        "A = Assym_encrypt(key)\n",
        "public_key = A.public_key # Публичные данные\n",
        "print(A.private_key)\n",
        "print(public_key)\n",
        "message = b\"10.10.2021\" # Сообщение для подписи\n",
        "A.signing(message) \n",
        "print(A.message)\n",
        "print(A.signature)\n",
        "print(A.verification(message, public_key))\n"
      ],
      "execution_count": 166,
      "outputs": [
        {
          "output_type": "stream",
          "name": "stdout",
          "text": [
            "160195850057190941576132052358375527493\n",
            "b'\\x87\\xf1|+\\xa4\\x86\\x8c\\x9c\\x8e\\xb6\\xecz\\x8f\\xb6\\xab\\xdd\\x96!\\xc8~{\\xc5g\\x10?\\x7f\\x84\\xab\\x00\\x0f!\\x95\\x08Z?:V\\xd3\\xc9\\x93\\x0f\\xef}\\xec\\xbdt\\xaa\\x8c'\n",
            "b'10.10.2021'\n",
            "b'\\xb6\\xd2\\xbd\\xfc\\xcdu0b\\x04>\\x9b>x\\xe9\\x10o0h\\x86\\xccO\\xe2i{\\x88\\x87G\\xf6\\xe2\\xda\\x95l\\xc5\\xcf<\\xc5X\\xfd\\xa6\\x99Qs\\x98\\xba\\xaf<\\xda\\xe8\\x19\\n\\xb4\\xd3\\x8b\\t\\xb6\\xe9U\\xf5B\\x17\\xfa\\xebX/\\x13\\x9c\\x014L\\x1d\\x90\\xd8\\x1doG\\x7f\\x0e#:\\xf7b\\xa6\\x83X|\\x19\\x03\\xb4\\xc0\\x1exa\\xba\\xf4\\xaec'\n",
            "True\n"
          ]
        }
      ]
    },
    {
      "cell_type": "code",
      "metadata": {
        "id": "lyFOb4Sa_w_b"
      },
      "source": [
        ""
      ],
      "execution_count": null,
      "outputs": []
    }
  ]
}