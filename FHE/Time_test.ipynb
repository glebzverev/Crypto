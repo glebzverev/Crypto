{
 "cells": [
  {
   "cell_type": "code",
   "execution_count": 104,
   "id": "513f633e-00dd-469b-b58e-39cc444a05da",
   "metadata": {},
   "outputs": [],
   "source": [
    "from datetime import datetime as dt\n",
    "import matplotlib as plt\n",
    "import numpy as np\n",
    "import pyhelayers\n",
    "import utils "
   ]
  },
  {
   "cell_type": "code",
   "execution_count": 105,
   "id": "2c192fb3-9db5-41b6-8601-c4453205b4c8",
   "metadata": {},
   "outputs": [],
   "source": [
    "requirement = pyhelayers.HeConfigRequirement(\n",
    "    security_level=128,\n",
    "    # Set the largest number to 2^20.\n",
    "    integer_part_precision=20,\n",
    "    # Set the precision to 1/2^40.\n",
    "    fractional_part_precision=40)\n",
    "\n",
    "# Allow 2 levels of multiplications\n",
    "requirement.multiplication_depth = 5\n",
    "\n",
    "# Number of slots per ciphertext\n",
    "requirement.num_slots = 16384\n",
    "\n",
    "he_context = pyhelayers.DefaultContext()\n",
    "he_context.init(requirement)"
   ]
  },
  {
   "cell_type": "code",
   "execution_count": 106,
   "id": "4dfb9fe3-842b-4572-8f9c-96fa4ba84d17",
   "metadata": {},
   "outputs": [],
   "source": [
    "def mult_speed(Num_slots):\n",
    "    requirement = pyhelayers.HeConfigRequirement(\n",
    "        security_level=128,\n",
    "        # Set the largest number to 2^20.\n",
    "        integer_part_precision=20,\n",
    "        # Set the precision to 1/2^40.\n",
    "        fractional_part_precision = Num_slots*10)\n",
    "\n",
    "    # Allow 2 levels of multiplications\n",
    "    requirement.multiplication_depth = 4\n",
    "\n",
    "    # Number of slots per ciphertext\n",
    "    requirement.num_slots = 2**(10 + Num_slots)\n",
    "\n",
    "    he_context = pyhelayers.DefaultContext()\n",
    "    he_context.init(requirement)\n",
    "\n",
    "    encoder = pyhelayers.Encoder(he_context)\n",
    "    \n",
    "    speed_test = []\n",
    "    er = []\n",
    "    for i in range(4):\n",
    "        N = 10**i\n",
    "        error = []\n",
    "        for j in range(3):\n",
    "            encrypt_time = []\n",
    "            decrypt_time = []\n",
    "            c_mult_time = []\n",
    "            M1 = np.random.normal(size = N)\n",
    "            M2 = np.random.normal(size = N)\n",
    "            \n",
    "            st = dt.now()\n",
    "            C1 = encoder.encode_encrypt(M1)\n",
    "            C2 = encoder.encode_encrypt(M2)\n",
    "            encrypt_time.append((dt.now()-st).total_seconds())\n",
    "\n",
    "            st = dt.now()            \n",
    "            C1.multiply(C2)\n",
    "            c_mult_time.append((dt.now()-st).total_seconds())\n",
    "\n",
    "            st = dt.now()            \n",
    "            D1 = np.array(encoder.decrypt_decode_double(C1))\n",
    "            decrypt_time.append((dt.now()-st).total_seconds())\n",
    "\n",
    "            error.append(np.sum(M1*M2 - D1[:N])/N)\n",
    "        \n",
    "        speed_test.append([np.mean(encrypt_time), np.mean(decrypt_time), np.mean(c_mult_time)]) \n",
    "        print(np.mean(error))\n",
    "        er.append(np.mean(error))\n",
    "    print(speed_test)\n",
    "    return speed_test"
   ]
  },
  {
   "cell_type": "markdown",
   "id": "dfa6e345-dfb0-4bc7-b267-fea8c1d4d25f",
   "metadata": {},
   "source": [
    "# В ходе экспериментов выявлено, что временная сложность шифрования, дешифорваний и операций линейно зависит от *Number of slots per ciphertext*"
   ]
  },
  {
   "cell_type": "code",
   "execution_count": 119,
   "id": "0ad35fbd-546d-45db-abf1-18866e24e2f8",
   "metadata": {},
   "outputs": [
    {
     "name": "stdout",
     "output_type": "stream",
     "text": [
      "0.0006753635202988734\n",
      "-0.0002826407605076486\n",
      "0.0002552886252652185\n",
      "8.642225401918067e-06\n",
      "[[0.009176, 0.001099, 0.005165], [0.008548, 0.001087, 0.005247], [0.008427, 0.001144, 0.005109], [0.00899, 0.001138, 0.005064]]\n",
      "-2.7137678132449494e-08\n",
      "6.370227927885124e-07\n",
      "-1.7397057620063808e-07\n",
      "4.2833121170708975e-08\n",
      "[[0.018611, 0.002384, 0.011323], [0.018781, 0.002814, 0.011536], [0.018345, 0.002463, 0.012119], [0.021132, 0.002601, 0.01208]]\n",
      "-1.0566995028993276e-08\n",
      "1.8717957860764354e-10\n",
      "-1.0760169926403967e-10\n",
      "6.242556808701516e-11\n",
      "[[0.036691, 0.00478, 0.023145], [0.038424, 0.004715, 0.023901], [0.037426, 0.004906, 0.022486], [0.037807, 0.005021, 0.022499]]\n"
     ]
    },
    {
     "data": {
      "image/png": "[encoded data removed]",
      "text/plain": [
       "<Figure size 432x288 with 1 Axes>"
      ]
     },
     "metadata": {
      "needs_background": "light"
     },
     "output_type": "display_data"
    }
   ],
   "source": [
    "import numpy as np\n",
    "import matplotlib.pyplot as plt\n",
    "\n",
    "#  Данные:\n",
    "x = [i for i in range(2,5)]\n",
    "m_s = [np.array(mult_speed(i)).mean(axis=0) for i in x] \n",
    "y1 = np.array(m_s)[:,0]\n",
    "y2 = np.array(m_s)[:,1]\n",
    "y3 = np.array(m_s)[:,2]\n",
    "# img = y.reshape(5, 20)\n",
    "\n",
    "#  Создаем \"Figure\" и \"Axes\":\n",
    "fig = plt.figure()\n",
    "\n",
    "ax = fig.add_subplot(1, 1, 1)\n",
    "\n",
    "li = [2**(10+i) for i in x]\n",
    "#  Методы, отображающие данные:\n",
    "ax.plot(li, y1, label = 'Время шифрования')\n",
    "ax.plot(li, y2,  label = 'Время дешифрования')\n",
    "ax.plot(li, y3, label = 'Время умножения')\n",
    "\n",
    "#  Добавление заголовков:\n",
    "ax.legend(loc = 'upper left') \n",
    "ax.set(title = 'Время')\n",
    "\n",
    "ax.set_xlabel('Количество слотов')\n",
    "ax.set_ylabel('Время (с)')\n",
    "# plt.show()\n",
    "plt.savefig('time.png')"
   ]
  },
  {
   "cell_type": "code",
   "execution_count": null,
   "id": "6e75e482-0c36-42e4-b2ca-db1d01a258f9",
   "metadata": {},
   "outputs": [],
   "source": []
  }
 ],
 "metadata": {
  "kernelspec": {
   "display_name": "Python 3 (ipykernel)",
   "language": "python",
   "name": "python3"
  },
  "language_info": {
   "codemirror_mode": {
    "name": "ipython",
    "version": 3
   },
   "file_extension": ".py",
   "mimetype": "text/x-python",
   "name": "python",
   "nbconvert_exporter": "python",
   "pygments_lexer": "ipython3",
   "version": "3.8.10"
  }
 },
 "nbformat": 4,
 "nbformat_minor": 5
}
